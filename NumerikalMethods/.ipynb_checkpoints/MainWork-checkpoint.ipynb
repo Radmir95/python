{
 "cells": [
  {
   "cell_type": "markdown",
   "metadata": {},
   "source": [
    "<h1>Численные методы </h1>"
   ]
  },
  {
   "cell_type": "markdown",
   "metadata": {},
   "source": [
    "<h3>Вариант 1 </h3>"
   ]
  },
  {
   "cell_type": "markdown",
   "metadata": {},
   "source": [
    "Одна из специальных функций математической физики - функция Бесселя, определяется следующим образом:"
   ]
  },
  {
   "cell_type": "markdown",
   "metadata": {},
   "source": [
    "$J_{0}(x) = \\frac{1}{\\pi}\\int_{0}^{\\pi}cos(xcost)dt$"
   ]
  },
  {
   "cell_type": "markdown",
   "metadata": {},
   "source": [
    "Цель задания - изучить и сравнить различные способы приближенного вычисления этой функции."
   ]
  },
  {
   "cell_type": "markdown",
   "metadata": {},
   "source": [
    "Для этого:"
   ]
  },
  {
   "cell_type": "markdown",
   "metadata": {},
   "source": [
    "1 Протабулировать $J_{0}(x)$ на отрезке [a,b] с шагом h с точностью $\\varepsilon$, основываясь на ряде Тейлора, предварительно вычислив его:"
   ]
  },
  {
   "cell_type": "markdown",
   "metadata": {},
   "source": [
    "$J_{0}(x)=\\sum_{n=0}^{\\infty}(-1)^{n}\\frac{(x^2/4)^n}{(x!)^2}$"
   ]
  },
  {
   "cell_type": "markdown",
   "metadata": {},
   "source": [
    "Множитель $q_{n}$ может быть получен из уравнения:"
   ]
  },
  {
   "cell_type": "markdown",
   "metadata": {},
   "source": [
    "$q_{n} = \\frac{a_{n+1}}{a_{n}}$"
   ]
  },
  {
   "cell_type": "markdown",
   "metadata": {},
   "source": [
    "Вычисляя его получим:"
   ]
  },
  {
   "cell_type": "markdown",
   "metadata": {},
   "source": [
    "$q_{n} = -\\frac{x^2/4}{(n+1)^2} $"
   ]
  },
  {
   "cell_type": "markdown",
   "metadata": {},
   "source": [
    "Следующий член ряда находится по формуле:"
   ]
  },
  {
   "cell_type": "markdown",
   "metadata": {},
   "source": [
    "$a_{n+1} = a_{n}*q_{n} $"
   ]
  },
  {
   "cell_type": "markdown",
   "metadata": {},
   "source": [
    "Импортирование всех необходимых библиотек:"
   ]
  },
  {
   "cell_type": "code",
   "execution_count": 1,
   "metadata": {
    "collapsed": true
   },
   "outputs": [],
   "source": [
    "import pandas as pd\n",
    "import numpy as np\n",
    "from matplotlib import pylab as plt"
   ]
  },
  {
   "cell_type": "markdown",
   "metadata": {},
   "source": [
    "Массивы для хранения значений:"
   ]
  },
  {
   "cell_type": "code",
   "execution_count": 2,
   "metadata": {
    "collapsed": true
   },
   "outputs": [],
   "source": [
    "matrixNodes = []\n",
    "matrixFunc = []"
   ]
  },
  {
   "cell_type": "markdown",
   "metadata": {},
   "source": [
    "Функция для приближеннего вычесления значений функции Бесселя:"
   ]
  },
  {
   "cell_type": "code",
   "execution_count": 3,
   "metadata": {
    "collapsed": true
   },
   "outputs": [],
   "source": [
    "eps = 10 ** (-6)\n",
    "\n",
    "def function(node):\n",
    "    sum = 1\n",
    "    n = 0\n",
    "    an = sum\n",
    "    while True:\n",
    "        anplus1 = -(node ** 2) / (4 * (n + 1) ** 2) * an\n",
    "        if abs(anplus1) < eps:\n",
    "            break\n",
    "        sum += anplus1\n",
    "        an = anplus1\n",
    "        n += 1\n",
    "    return sum"
   ]
  },
  {
   "cell_type": "markdown",
   "metadata": {},
   "source": [
    "Функция вычисляющая значения функции на открезке [a,b] с шагом h:"
   ]
  },
  {
   "cell_type": "code",
   "execution_count": 4,
   "metadata": {
    "collapsed": false
   },
   "outputs": [],
   "source": [
    "def work1(a, b, num):\n",
    "    table = []\n",
    "    h = (b - a) /  num\n",
    "    i = a\n",
    "    while i <= b:\n",
    "        a = [i, function(i)]\n",
    "        table.append(a)\n",
    "        i += h\n",
    "    \n",
    "    for value in table:\n",
    "        matrixNodes.append(value[0])\n",
    "        matrixFunc.append(value[1])"
   ]
  },
  {
   "cell_type": "markdown",
   "metadata": {},
   "source": [
    "Вызов функции:"
   ]
  },
  {
   "cell_type": "code",
   "execution_count": 5,
   "metadata": {
    "collapsed": false,
    "scrolled": true
   },
   "outputs": [
    {
     "name": "stdout",
     "output_type": "stream",
     "text": [
      "     x         y\n",
      "0  0.0  1.000000\n",
      "1  0.6  0.912005\n",
      "2  1.2  0.671133\n",
      "3  1.8  0.339986\n",
      "4  2.4  0.002508\n",
      "5  3.0 -0.260052\n"
     ]
    },
    {
     "data": {
      "image/png": "[encoded data removed]",
      "text/plain": [
       "<matplotlib.figure.Figure at 0x1957df17320>"
      ]
     },
     "metadata": {},
     "output_type": "display_data"
    }
   ],
   "source": [
    "work1(0,3,5)\n",
    "frame = pd.DataFrame({\"x\":matrixNodes, \"y\":matrixFunc})\n",
    "print(frame)\n",
    "%matplotlib inline\n",
    "plt.plot(matrixNodes, matrixFunc)\n",
    "plt.show()\n"
   ]
  },
  {
   "cell_type": "markdown",
   "metadata": {},
   "source": [
    "По полученной таблице значений построим интерполяционный полином Ньютона, приближающий $J_{0}(x)$:"
   ]
  },
  {
   "cell_type": "markdown",
   "metadata": {},
   "source": [
    "$L_{n}(x) = f(x_{0})+(x-x_{0})f(x_{0},x_{1})+(x-x_{0})(x-x_{1})f(x_{0},x_{1},x_{2}) + ... + (x-x_{0})(x-x_{1})...(x-x_{n})f(x_{0},x_{1},...,x_{n})$"
   ]
  },
  {
   "cell_type": "markdown",
   "metadata": {},
   "source": [
    "и вычислим погрешность интерполирования:"
   ]
  },
  {
   "cell_type": "markdown",
   "metadata": {},
   "source": [
    "$\\varepsilon_{n} = max_{x \\epsilon(a,b)} \\varepsilon(x), \\varepsilon(x) = |J_{0}(x) - L_{n}(x)|$"
   ]
  },
  {
   "cell_type": "markdown",
   "metadata": {},
   "source": [
    "Вспомогательная функция для вычисления разделенных разностей:"
   ]
  },
  {
   "cell_type": "code",
   "execution_count": 6,
   "metadata": {
    "collapsed": true
   },
   "outputs": [],
   "source": [
    "def koeffEnd(matrixNodes, matrixFunc, shift):\n",
    "    # print(\"x: \", matrixNodes)\n",
    "    # print(\"y: \", matrixFunc)\n",
    "    count = 0\n",
    "    result = []\n",
    "    length = matrixNodes.__len__()\n",
    "    while count < length - 1 - shift:\n",
    "        result.append(\n",
    "            (matrixFunc[count + 1] - matrixFunc[count]) / (matrixNodes[count + 1 + shift] - matrixNodes[count]))\n",
    "        count += 1\n",
    "    # print(result)\n",
    "    return result"
   ]
  },
  {
   "cell_type": "code",
   "execution_count": 7,
   "metadata": {
    "collapsed": true
   },
   "outputs": [],
   "source": [
    "def work2(matrixNodes, matrixFunc, x):\n",
    "    result = []\n",
    "    count = 0\n",
    "    temp = matrixFunc\n",
    "    length = matrixNodes.__len__()\n",
    "    while count < length - 1:\n",
    "        result.append(koeffEnd(matrixNodes, temp, count))\n",
    "        temp = result[count]\n",
    "        count += 1\n",
    "    count = 0\n",
    "    end = []\n",
    "    end.append(matrixFunc[0])\n",
    "    while count < length - 1:\n",
    "        end.append(result[count][0])\n",
    "        count += 1\n",
    "    # print(end)\n",
    "    return newtonPolynomial(end, matrixNodes, x)"
   ]
  },
  {
   "cell_type": "code",
   "execution_count": 8,
   "metadata": {
    "collapsed": true
   },
   "outputs": [],
   "source": [
    "def newtonPolynomial(koeff, matrixNodes, x):\n",
    "    length = koeff.__len__()\n",
    "    count = 1\n",
    "    sum = koeff[0]\n",
    "    while count < length:\n",
    "        num = 0\n",
    "        temp = 1\n",
    "        while num < count:\n",
    "            temp *= (x - matrixNodes[num])\n",
    "            num += 1\n",
    "        temp *= koeff[count]\n",
    "        sum += temp\n",
    "        count += 1\n",
    "    return sum"
   ]
  },
  {
   "cell_type": "code",
   "execution_count": 9,
   "metadata": {
    "collapsed": false
   },
   "outputs": [
    {
     "data": {
      "image/png": "[encoded data removed]",
      "text/plain": [
       "<matplotlib.figure.Figure at 0x1957dfebcf8>"
      ]
     },
     "metadata": {},
     "output_type": "display_data"
    }
   ],
   "source": [
    "x = np.arange(0,3,0.1)\n",
    "y = work2(matrixNodes, matrixFunc, x)\n",
    "plt.plot(x,y)\n",
    "plt.show()"
   ]
  },
  {
   "cell_type": "markdown",
   "metadata": {},
   "source": [
    "Вычислим максимальную погрешность:"
   ]
  },
  {
   "cell_type": "code",
   "execution_count": 10,
   "metadata": {
    "collapsed": false,
    "scrolled": true
   },
   "outputs": [
    {
     "name": "stdout",
     "output_type": "stream",
     "text": [
      "        J(x)      L(x)    x   |L(x)-J(x)|\n",
      "0   1.000000  1.000000  0.0  0.000000e+00\n",
      "1   0.977627  0.977533  0.3  9.328715e-05\n",
      "2   0.912005  0.912005  0.6  0.000000e+00\n",
      "3   0.807524  0.807548  0.9  2.414658e-05\n",
      "4   0.671133  0.671133  1.2  0.000000e+00\n",
      "5   0.511828  0.511816  1.5  1.169322e-05\n",
      "6   0.339986  0.339986  1.8  0.000000e+00\n",
      "7   0.166607  0.166615  2.1  8.323544e-06\n",
      "8   0.002508  0.002508  2.4  4.423545e-17\n",
      "9  -0.142449 -0.142452  2.7  2.476087e-06\n",
      "10 -0.260052 -0.260052  3.0  1.665335e-16\n"
     ]
    },
    {
     "data": {
      "image/png": "[encoded data removed]",
      "text/plain": [
       "<matplotlib.figure.Figure at 0x1957df72e48>"
      ]
     },
     "metadata": {},
     "output_type": "display_data"
    },
    {
     "name": "stdout",
     "output_type": "stream",
     "text": [
      "9.3287150892e-05\n"
     ]
    }
   ],
   "source": [
    "x = np.arange(0,3.3,0.3)\n",
    "l = work2(matrixNodes, matrixFunc, x)\n",
    "j = []\n",
    "for i in x:\n",
    "    j.append(function(i))\n",
    "frame = pd.DataFrame({\"x\":x, \"L(x)\":l, \"J(x)\":j, \"|L(x)-J(x)|\":abs(l-j)})\n",
    "print(frame)\n",
    "plt.plot(x,(l-j))\n",
    "plt.show()\n",
    "print(max(abs(l-j)))"
   ]
  },
  {
   "cell_type": "markdown",
   "metadata": {},
   "source": [
    "Максимальное расхождение:"
   ]
  },
  {
   "cell_type": "code",
   "execution_count": 11,
   "metadata": {
    "collapsed": false
   },
   "outputs": [
    {
     "name": "stdout",
     "output_type": "stream",
     "text": [
      "9.3287150892e-05\n"
     ]
    }
   ],
   "source": [
    "eps = max(abs(l-j))\n",
    "print(eps)"
   ]
  },
  {
   "cell_type": "code",
   "execution_count": 12,
   "metadata": {
    "collapsed": false
   },
   "outputs": [
    {
     "name": "stdout",
     "output_type": "stream",
     "text": [
      "        J(x)      L(x)         x   |L(x)-J(x)|\n",
      "0   0.998264  1.012197  0.083333  1.393279e-02\n",
      "1   0.993056  0.993056  0.166667  0.000000e+00\n",
      "2   0.984375  0.983083  0.250000  1.291541e-03\n",
      "3   0.972415  0.972415  0.333333  0.000000e+00\n",
      "4   0.957068  0.957296  0.416667  2.280348e-04\n",
      "5   0.938477  0.938477  0.500000  0.000000e+00\n",
      "6   0.916740  0.916690  0.583333  4.947771e-05\n",
      "7   0.891975  0.891975  0.666667  0.000000e+00\n",
      "8   0.864319  0.864287  0.750000  3.164777e-05\n",
      "9   0.833779  0.833779  0.833333  2.220446e-16\n",
      "10  0.800705  0.800686  0.916667  1.976168e-05\n",
      "11  0.765191  0.765191  1.000000  1.110223e-16\n",
      "12  0.727417  0.727432  1.083333  1.515286e-05\n",
      "13  0.687575  0.687575  1.166667  1.110223e-16\n",
      "14  0.645866  0.645847  1.250000  1.955170e-05\n",
      "15  0.602500  0.602500  1.333333  0.000000e+00\n",
      "16  0.557800  0.557762  1.416667  3.784355e-05\n",
      "17  0.511832  0.511832  1.500000  0.000000e+00\n",
      "18  0.464893  0.464906  1.583333  1.291890e-05\n",
      "19  0.417220  0.417220  1.666667  5.551115e-17\n",
      "20  0.369050  0.369039  1.750000  1.093569e-05\n",
      "21  0.320624  0.320624  1.833333  0.000000e+00\n",
      "22  0.272181  0.272197  1.916667  1.641859e-05\n",
      "23  0.223958  0.223958  2.000000  1.387779e-16\n",
      "24  0.176090  0.176128  2.083333  3.880846e-05\n",
      "25  0.128966  0.128966  2.166667  3.330669e-16\n",
      "26  0.082742  0.082732  2.250000  1.005934e-05\n",
      "27  0.037634  0.037634  2.333333  7.840950e-16\n",
      "28 -0.006150 -0.006155  2.416667  5.168683e-06\n",
      "29 -0.048411 -0.048411  2.500000  4.239664e-15\n",
      "30 -0.088960 -0.088891  2.583333  6.897387e-05\n",
      "31 -0.127620 -0.127620  2.666667  4.551914e-15\n",
      "32 -0.164226 -0.164763  2.750000  5.363312e-04\n",
      "33 -0.198502 -0.198502  2.833333  2.972622e-14\n",
      "34 -0.230512 -0.223530  2.916667  6.981704e-03\n",
      "35 -0.260041 -0.260041  3.000000  8.626433e-14\n"
     ]
    },
    {
     "data": {
      "image/png": "[encoded data removed]",
      "text/plain": [
       "<matplotlib.figure.Figure at 0x1957e3d7668>"
      ]
     },
     "metadata": {},
     "output_type": "display_data"
    }
   ],
   "source": [
    "matrixNodes = []\n",
    "matrixFunc = []\n",
    "\n",
    "work1(0,3,18)\n",
    "\n",
    "x = np.arange(0+(3/36),(3+3/36),(3/36))\n",
    "l = work2(matrixNodes, matrixFunc, x)\n",
    "j = []\n",
    "for i in x:\n",
    "    j.append(function(i))\n",
    "frame = pd.DataFrame({\"x\":x, \"L(x)\":l, \"J(x)\":j, \"|L(x)-J(x)|\":abs(l-j)})\n",
    "print(frame)\n",
    "plt.plot(x,(l-j))\n",
    "plt.show()\n",
    "#print(max(abs(l-j)))\n"
   ]
  },
  {
   "cell_type": "code",
   "execution_count": 13,
   "metadata": {
    "collapsed": false
   },
   "outputs": [],
   "source": [
    "#def chebishov()"
   ]
  },
  {
   "cell_type": "markdown",
   "metadata": {},
   "source": [
    "На той же сетке узлов $\\left \\{x_{i} \\right \\} _{i=0}^{n}$ построить таблицу приближенных значений $J_{0}(x)$, используя составную квадратурную формулу трапеций:"
   ]
  },
  {
   "cell_type": "markdown",
   "metadata": {},
   "source": [
    "$\\int_{c}^{d}\\phi (t)dt = \\sum_{i=1}^{N}\\int_{z_{i-1}}^{z_{i}}\\phi(t)dt\\approx \\sum_{i=1}^{N}S_{i}(\\phi)$,"
   ]
  },
  {
   "cell_type": "markdown",
   "metadata": {},
   "source": [
    "где $S_{i}(\\phi)=h_{N}\\frac{\\phi(z_{i-1})+\\phi(z_{i})}{2}$, а $z_{i}$ - точки разбиения отрезка интегрирования на N частей, "
   ]
  },
  {
   "cell_type": "markdown",
   "metadata": {},
   "source": [
    "$z_{i}=c+i*h_{N}$, $h_{N}=\\frac{c-d}{N}$."
   ]
  },
  {
   "cell_type": "markdown",
   "metadata": {},
   "source": [
    "Интеграл вычислить с точностью $\\varepsilon = 10^{-4}$. Точность вычисления интеграла определяется сравнением результатов при различном числе разбиения отрезка интегрирования, а именно, точность $\\varepsilon$ считается достигнутой, если:"
   ]
  },
  {
   "cell_type": "markdown",
   "metadata": {},
   "source": [
    "$|S^{N}(\\phi)-S^{2N}(\\phi)|\\leqslant \\varepsilon$,"
   ]
  },
  {
   "cell_type": "markdown",
   "metadata": {},
   "source": [
    "$S^{N}(\\phi)=\\sum_{i=1}^{N}S_{i}(\\phi)$."
   ]
  },
  {
   "cell_type": "markdown",
   "metadata": {},
   "source": [
    "Функция для расчета $S^{N}(\\phi)$:"
   ]
  },
  {
   "cell_type": "code",
   "execution_count": 14,
   "metadata": {
    "collapsed": false
   },
   "outputs": [],
   "source": [
    "def trapeze(a, b, num):\n",
    "    z = []\n",
    "    s = []\n",
    "    h = (b-a)/num\n",
    "    i = 0\n",
    "    while i < num:\n",
    "        z.append(a + i*h)\n",
    "        i+=1\n",
    "    i = 1\n",
    "    while i < num:\n",
    "        s.append(h*(work2(matrixNodes, matrixFunc,z[i-1]) + (work2(matrixNodes, matrixFunc,z[i])))/2)\n",
    "        i+=1\n",
    "    return sum(s)"
   ]
  },
  {
   "cell_type": "markdown",
   "metadata": {},
   "source": [
    "Функция для вычисления интеграла с заданной точностью $\\varepsilon$:"
   ]
  },
  {
   "cell_type": "code",
   "execution_count": 15,
   "metadata": {
    "collapsed": false
   },
   "outputs": [
    {
     "name": "stdout",
     "output_type": "stream",
     "text": [
      "0.003568595178670808\n",
      "0.0018548136381237867\n",
      "0.0009493481116740199\n",
      "0.00048085682051945966\n",
      "0.0002420729704917246\n",
      "0.00012146077666885802\n"
     ]
    },
    {
     "data": {
      "text/plain": [
       "1.390214346737645"
      ]
     },
     "execution_count": 15,
     "metadata": {},
     "output_type": "execute_result"
    }
   ],
   "source": [
    "eps = 10**(-4)\n",
    "\n",
    "def work3(a, b, num):\n",
    "    s1 = trapeze(a, b, num)\n",
    "    tNum = num\n",
    "    while True:\n",
    "        tNum *= 2\n",
    "        s2 = trapeze(a,b,tNum)\n",
    "        if abs(s2 - s1) < eps:\n",
    "            break\n",
    "        #print(s1-s2)\n",
    "        s1 = s2\n",
    "    return s1\n",
    "work3(0,3, 100)\n",
    "#print(trapeze(0,3,40))"
   ]
  },
  {
   "cell_type": "code",
   "execution_count": null,
   "metadata": {
    "collapsed": true
   },
   "outputs": [],
   "source": []
  }
 ],
 "metadata": {
  "kernelspec": {
   "display_name": "Python 3",
   "language": "python",
   "name": "python3"
  },
  "language_info": {
   "codemirror_mode": {
    "name": "ipython",
    "version": 3
   },
   "file_extension": ".py",
   "mimetype": "text/x-python",
   "name": "python",
   "nbconvert_exporter": "python",
   "pygments_lexer": "ipython3",
   "version": "3.5.1"
  }
 },
 "nbformat": 4,
 "nbformat_minor": 0
}
