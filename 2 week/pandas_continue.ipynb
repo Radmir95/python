{
 "cells": [
  {
   "cell_type": "code",
   "execution_count": 12,
   "metadata": {
    "collapsed": false
   },
   "outputs": [
    {
     "name": "stdout",
     "output_type": "stream",
     "text": [
      "              Name       Birth       City  Position\n",
      "0      Иванов А.А.  22.03.1980     Москва       NaN\n",
      "1     Сорокин И.В.  07.08.1965  Волгоград   инженер\n",
      "2       Белов М.М.  13.02.1980     Ростов  менеджер\n",
      "3  Мельникова Д.С.  15.04.1985     Ростов       NaN\n",
      "4      Рыбина Е.П.  19.11.1985     Москва   инженер\n",
      "5     Костров С.О.  31.05.1985     Москва    стажер\n",
      "<class 'pandas.core.frame.DataFrame'>\n",
      "Int64Index: 6 entries, 0 to 5\n",
      "Data columns (total 4 columns):\n",
      "Name        6 non-null object\n",
      "Birth       6 non-null datetime64[ns]\n",
      "City        6 non-null object\n",
      "Position    4 non-null object\n",
      "dtypes: datetime64[ns](1), object(3)\n",
      "memory usage: 240.0+ bytes\n",
      "              Name      Birth       City     Position\n",
      "0      Иванов А.А. 1980-03-22     Москва  Not working\n",
      "1     Сорокин И.В. 1965-07-08  Волгоград      инженер\n",
      "2       Белов М.М. 1980-02-13     Ростов     менеджер\n",
      "3  Мельникова Д.С. 1985-04-15     Ростов  Not working\n",
      "4      Рыбина Е.П. 1985-11-19     Москва      инженер\n",
      "5     Костров С.О. 1985-05-31     Москва       стажер\n"
     ]
    }
   ],
   "source": [
    "import pandas as pd\n",
    "\n",
    "frame = pd.read_csv(\"dataset.tsv\", header = 0, sep='\\t')\n",
    "print(frame)\n",
    "frame.Birth = frame.Birth.apply(pd.to_datetime)\n",
    "frame.info()\n",
    "frame.fillna(\"Not working\", inplace=True)\n",
    "print(frame)"
   ]
  },
  {
   "cell_type": "code",
   "execution_count": null,
   "metadata": {
    "collapsed": true
   },
   "outputs": [],
   "source": []
  }
 ],
 "metadata": {
  "kernelspec": {
   "display_name": "Python 3",
   "language": "python",
   "name": "python3"
  },
  "language_info": {
   "codemirror_mode": {
    "name": "ipython",
    "version": 3
   },
   "file_extension": ".py",
   "mimetype": "text/x-python",
   "name": "python",
   "nbconvert_exporter": "python",
   "pygments_lexer": "ipython3",
   "version": "3.5.1"
  }
 },
 "nbformat": 4,
 "nbformat_minor": 0
}
