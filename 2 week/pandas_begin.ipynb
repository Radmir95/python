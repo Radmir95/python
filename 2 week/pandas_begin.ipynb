{
 "cells": [
  {
   "cell_type": "code",
   "execution_count": 3,
   "metadata": {
    "collapsed": false
   },
   "outputs": [
    {
     "data": {
      "text/html": [
       "<div>\n",
       "<table border=\"1\" class=\"dataframe\">\n",
       "  <thead>\n",
       "    <tr style=\"text-align: right;\">\n",
       "      <th></th>\n",
       "      <th>chars</th>\n",
       "      <th>numbers</th>\n",
       "    </tr>\n",
       "  </thead>\n",
       "  <tbody>\n",
       "    <tr>\n",
       "      <th>0</th>\n",
       "      <td>a</td>\n",
       "      <td>0</td>\n",
       "    </tr>\n",
       "    <tr>\n",
       "      <th>1</th>\n",
       "      <td>a</td>\n",
       "      <td>1</td>\n",
       "    </tr>\n",
       "    <tr>\n",
       "      <th>2</th>\n",
       "      <td>a</td>\n",
       "      <td>2</td>\n",
       "    </tr>\n",
       "    <tr>\n",
       "      <th>3</th>\n",
       "      <td>a</td>\n",
       "      <td>3</td>\n",
       "    </tr>\n",
       "    <tr>\n",
       "      <th>4</th>\n",
       "      <td>a</td>\n",
       "      <td>4</td>\n",
       "    </tr>\n",
       "    <tr>\n",
       "      <th>5</th>\n",
       "      <td>a</td>\n",
       "      <td>5</td>\n",
       "    </tr>\n",
       "    <tr>\n",
       "      <th>6</th>\n",
       "      <td>a</td>\n",
       "      <td>6</td>\n",
       "    </tr>\n",
       "    <tr>\n",
       "      <th>7</th>\n",
       "      <td>a</td>\n",
       "      <td>7</td>\n",
       "    </tr>\n",
       "    <tr>\n",
       "      <th>8</th>\n",
       "      <td>a</td>\n",
       "      <td>8</td>\n",
       "    </tr>\n",
       "    <tr>\n",
       "      <th>9</th>\n",
       "      <td>a</td>\n",
       "      <td>9</td>\n",
       "    </tr>\n",
       "  </tbody>\n",
       "</table>\n",
       "</div>"
      ],
      "text/plain": [
       "  chars  numbers\n",
       "0     a        0\n",
       "1     a        1\n",
       "2     a        2\n",
       "3     a        3\n",
       "4     a        4\n",
       "5     a        5\n",
       "6     a        6\n",
       "7     a        7\n",
       "8     a        8\n",
       "9     a        9"
      ]
     },
     "execution_count": 3,
     "metadata": {},
     "output_type": "execute_result"
    }
   ],
   "source": [
    "import pandas as pd\n",
    "frame = pd.DataFrame({'numbers':range(10), 'chars':['a']*10})\n",
    "frame"
   ]
  },
  {
   "cell_type": "markdown",
   "metadata": {},
   "source": [
    "# Pandas"
   ]
  },
  {
   "cell_type": "code",
   "execution_count": 13,
   "metadata": {
    "collapsed": false
   },
   "outputs": [
    {
     "name": "stdout",
     "output_type": "stream",
     "text": [
      "              Name       Birth       City  Position\n",
      "0      Иванов А.А.  22.03.1980     Москва       NaN\n",
      "1     Сорокин И.В.  07.08.1965  Волгоград   инженер\n",
      "2       Белов М.М.  13.02.1980     Ростов  менеджер\n",
      "3  Мельникова Д.С.  15.04.1985     Ростов       NaN\n",
      "4      Рыбина Е.П.  19.11.1985     Москва   инженер\n",
      "5     Костров С.О.  31.05.1985     Москва    стажер\n",
      "              Name       Birth    City Position\n",
      "0      Иванов А.А.  22.03.1980  Москва      NaN\n",
      "3  Мельникова Д.С.  15.04.1985  Ростов      NaN\n",
      "4      Рыбина Е.П.  19.11.1985  Москва  инженер\n",
      "5     Костров С.О.  31.05.1985  Москва   стажер\n"
     ]
    }
   ],
   "source": [
    "import pandas as pd\n",
    "frame = pd.read_csv(\"dataset.tsv\", header = 0, sep=\"\\t\")\n",
    "print(frame)\n",
    "frame.shape\n",
    "frame.columns\n",
    "new_line = {'Name':'Ivan V.M', 'Birth':'22.01.2000', \"City\":\"Penza\", 'Position':'Junior'}\n",
    "frame.append(new_line, ignore_index=True)\n",
    "frame.drop([1,2],axis=0, inplace=True)\n",
    "print(frame)"
   ]
  },
  {
   "cell_type": "code",
   "execution_count": null,
   "metadata": {
    "collapsed": true
   },
   "outputs": [],
   "source": []
  }
 ],
 "metadata": {
  "kernelspec": {
   "display_name": "Python 3",
   "language": "python",
   "name": "python3"
  },
  "language_info": {
   "codemirror_mode": {
    "name": "ipython",
    "version": 3
   },
   "file_extension": ".py",
   "mimetype": "text/x-python",
   "name": "python",
   "nbconvert_exporter": "python",
   "pygments_lexer": "ipython3",
   "version": "3.5.1"
  }
 },
 "nbformat": 4,
 "nbformat_minor": 0
}
